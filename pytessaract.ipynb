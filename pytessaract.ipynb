{
 "cells": [
  {
   "cell_type": "code",
   "execution_count": 1,
   "id": "flexible-phoenix",
   "metadata": {},
   "outputs": [],
   "source": [
    "import pytesseract\n",
    "#observation--> it works on white background"
   ]
  },
  {
   "cell_type": "code",
   "execution_count": 2,
   "id": "beginning-republican",
   "metadata": {},
   "outputs": [
    {
     "data": {
      "text/plain": [
       "<module 'pytesseract' from '/home/swapnil/.local/lib/python3.8/site-packages/pytesseract/__init__.py'>"
      ]
     },
     "execution_count": 2,
     "metadata": {},
     "output_type": "execute_result"
    }
   ],
   "source": [
    "pytesseract"
   ]
  },
  {
   "cell_type": "code",
   "execution_count": 4,
   "id": "early-curve",
   "metadata": {},
   "outputs": [
    {
     "name": "stdout",
     "output_type": "stream",
     "text": [
      "/media/swapnil/work1/work/pytessract/images\n"
     ]
    }
   ],
   "source": [
    "cd images/   #redirected to images folder"
   ]
  },
  {
   "cell_type": "code",
   "execution_count": 5,
   "id": "corrected-sessions",
   "metadata": {},
   "outputs": [],
   "source": [
    "import cv2\n",
    "img=cv2.imread('sample3.jpg')\n",
    "cv2.imshow('sample.jpg',img)\n",
    "cv2.waitKey(0)\n",
    "cv2.destroyAllWindows()\n",
    "\n"
   ]
  },
  {
   "cell_type": "code",
   "execution_count": 6,
   "id": "subject-stroke",
   "metadata": {},
   "outputs": [],
   "source": [
    "text=pytesseract.image_to_string('sample3.jpg')"
   ]
  },
  {
   "cell_type": "code",
   "execution_count": 7,
   "id": "iraqi-prospect",
   "metadata": {},
   "outputs": [
    {
     "data": {
      "text/plain": [
       "['POWER SUPPLY',\n",
       " '',\n",
       " 'THE CALCULATOR IS POWERED BY',\n",
       " 'SOLAR CELL AND A BATTERY FOR',\n",
       " 'BACKUP. THE DISPLAY WILL DIM WHEN',\n",
       " 'THE BATTERY NEEDS TO BE REPLACED.',\n",
       " 'THE \"+\" SIGN OF EACH BATTERY MUST',\n",
       " 'SHOW UPWARD WHEN INSERTED. ~',\n",
       " '\\x0c']"
      ]
     },
     "execution_count": 7,
     "metadata": {},
     "output_type": "execute_result"
    }
   ],
   "source": [
    "text.split('\\n')"
   ]
  },
  {
   "cell_type": "code",
   "execution_count": null,
   "id": "surrounded-underground",
   "metadata": {},
   "outputs": [],
   "source": []
  },
  {
   "cell_type": "code",
   "execution_count": null,
   "id": "environmental-allowance",
   "metadata": {},
   "outputs": [],
   "source": []
  },
  {
   "cell_type": "code",
   "execution_count": 10,
   "id": "common-aging",
   "metadata": {},
   "outputs": [],
   "source": [
    "text=pytesseract.image_to_string('traffic.png')\n"
   ]
  },
  {
   "cell_type": "code",
   "execution_count": 11,
   "id": "banned-alexandria",
   "metadata": {},
   "outputs": [
    {
     "data": {
      "text/plain": [
       "['PEDESTRIAN',\n",
       " 'BITOR NO ENTRY PROHIBITED',\n",
       " '',\n",
       " 'NO STOPPI',\n",
       " 'STANDII',\n",
       " '',\n",
       " '    ',\n",
       " '',\n",
       " 'RIGHT HAIR NARROW ROAD',\n",
       " 'AHEAD',\n",
       " '',\n",
       " 'PEDESTRIAN',\n",
       " '',\n",
       " 'NARROW BRIDGE ‘CROSSING',\n",
       " '',\n",
       " 'SCHOOL AHEAD',\n",
       " '',\n",
       " '       ',\n",
       " '',\n",
       " 'ROUND ABOUT | DANGEROUS DIP | HUMP OR ROUGH BARRIER AHEAD',\n",
       " '',\n",
       " ' ',\n",
       " '\\x0c']"
      ]
     },
     "execution_count": 11,
     "metadata": {},
     "output_type": "execute_result"
    }
   ],
   "source": [
    "text.split('\\n')"
   ]
  },
  {
   "cell_type": "code",
   "execution_count": 12,
   "id": "loose-member",
   "metadata": {},
   "outputs": [],
   "source": [
    "text=pytesseract.image_to_string('invoice.png')"
   ]
  },
  {
   "cell_type": "code",
   "execution_count": 13,
   "id": "devoted-illustration",
   "metadata": {},
   "outputs": [
    {
     "data": {
      "text/plain": [
       "['INVOICE',\n",
       " '',\n",
       " 'Saffron Design',\n",
       " '',\n",
       " '77 Namrata Bldg',\n",
       " 'Delhi, Delhi 400077',\n",
       " '',\n",
       " ' ',\n",
       " '',\n",
       " ' ',\n",
       " '',\n",
       " 'BILLTO SHIP TO INVOICE # IN-001',\n",
       " 'Kavindra Mannan Kavindra Mannan, INVOICE DATE 29/01/2019',\n",
       " '27, Dif City, Gupta 264, Abdul Rehman pos',\n",
       " '',\n",
       " 'Delhi, Dethi 40003, Mumbai, Bihar 40009 ” 2430/2019',\n",
       " 'DUE DATE 26/04/2019',\n",
       " '',\n",
       " 'ay DESCRIPTION UNIT PRICE AMOUNT',\n",
       " '',\n",
       " '1 Frontend design restructure 9,999.00 9,999.00',\n",
       " '',\n",
       " '2 Custom icon package 975.00 1,950.00',\n",
       " '',\n",
       " '3 Gandhi mouse pad 99.00 297.00',\n",
       " '',\n",
       " 'Subtotal 12,246.00',\n",
       " '',\n",
       " 'GST 12.0% 1,469.52',\n",
       " '',\n",
       " 'TOTAL 313,715.52',\n",
       " '',\n",
       " ' ',\n",
       " '',\n",
       " 'ny',\n",
       " '',\n",
       " 'TERMS & CONDITIONS',\n",
       " '',\n",
       " 'Payment is due within 15 days',\n",
       " '',\n",
       " 'State Bank of India',\n",
       " '‘Account Number: 12345678',\n",
       " 'Routing Number: 09876543210',\n",
       " '\\x0c']"
      ]
     },
     "execution_count": 13,
     "metadata": {},
     "output_type": "execute_result"
    }
   ],
   "source": [
    "text.split('\\n')"
   ]
  },
  {
   "cell_type": "code",
   "execution_count": null,
   "id": "sought-evanescence",
   "metadata": {},
   "outputs": [],
   "source": []
  },
  {
   "cell_type": "code",
   "execution_count": 17,
   "id": "pretty-branch",
   "metadata": {},
   "outputs": [],
   "source": [
    "text=pytesseract.image_to_string('chernobyl.jpeg')"
   ]
  },
  {
   "cell_type": "code",
   "execution_count": 18,
   "id": "demanding-liverpool",
   "metadata": {},
   "outputs": [
    {
     "data": {
      "text/plain": [
       "['Disaster: Soviets call for help', 'Thowands vaca', '', '   ', '\\x0c']"
      ]
     },
     "execution_count": 18,
     "metadata": {},
     "output_type": "execute_result"
    }
   ],
   "source": [
    "text.split('\\n')"
   ]
  },
  {
   "cell_type": "code",
   "execution_count": 19,
   "id": "entitled-instrumentation",
   "metadata": {},
   "outputs": [],
   "source": [
    "text=pytesseract.image_to_string('suvichar.png')"
   ]
  },
  {
   "cell_type": "code",
   "execution_count": 20,
   "id": "boring-blake",
   "metadata": {},
   "outputs": [
    {
     "data": {
      "text/plain": [
       "['Sal AGE Fl IG AR AIAN H ATS A',\n",
       " 'FATA SAHA AL TATA TA El See',\n",
       " 'fe Se ARIST Sl 2A Ta SA ET',\n",
       " 'a Say a A aala aa TB',\n",
       " '\\x0c']"
      ]
     },
     "execution_count": 20,
     "metadata": {},
     "output_type": "execute_result"
    }
   ],
   "source": [
    "text.split('\\n')"
   ]
  },
  {
   "cell_type": "code",
   "execution_count": null,
   "id": "lonely-waterproof",
   "metadata": {},
   "outputs": [],
   "source": []
  },
  {
   "cell_type": "code",
   "execution_count": 25,
   "id": "entitled-guyana",
   "metadata": {},
   "outputs": [],
   "source": [
    "text=pytesseract.image_to_string('form.png')"
   ]
  },
  {
   "cell_type": "code",
   "execution_count": 26,
   "id": "opposed-franchise",
   "metadata": {},
   "outputs": [
    {
     "data": {
      "text/plain": [
       "['‘Sample Request Form',\n",
       " '',\n",
       " 'seers,',\n",
       " '‘en anges',\n",
       " 'remer',\n",
       " '',\n",
       " 'rea ae anager',\n",
       " '',\n",
       " 'Deserpuon',\n",
       " 'uaniy',\n",
       " '',\n",
       " '[rere',\n",
       " '\\x0c']"
      ]
     },
     "execution_count": 26,
     "metadata": {},
     "output_type": "execute_result"
    }
   ],
   "source": [
    "text.split('\\n')"
   ]
  },
  {
   "cell_type": "code",
   "execution_count": null,
   "id": "starting-transcript",
   "metadata": {},
   "outputs": [],
   "source": []
  },
  {
   "cell_type": "code",
   "execution_count": null,
   "id": "accompanied-mainland",
   "metadata": {},
   "outputs": [],
   "source": []
  }
 ],
 "metadata": {
  "kernelspec": {
   "display_name": "Python 3",
   "language": "python",
   "name": "python3"
  },
  "language_info": {
   "codemirror_mode": {
    "name": "ipython",
    "version": 3
   },
   "file_extension": ".py",
   "mimetype": "text/x-python",
   "name": "python",
   "nbconvert_exporter": "python",
   "pygments_lexer": "ipython3",
   "version": "3.8.5"
  }
 },
 "nbformat": 4,
 "nbformat_minor": 5
}
